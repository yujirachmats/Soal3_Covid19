{
 "cells": [
  {
   "cell_type": "code",
   "execution_count": null,
   "metadata": {},
   "outputs": [],
   "source": [
    "import requests\n",
    "import folium as fo"
   ]
  },
  {
   "cell_type": "markdown",
   "metadata": {},
   "source": [
    "## Import Data + Cleaning Data"
   ]
  },
  {
   "cell_type": "code",
   "execution_count": null,
   "metadata": {},
   "outputs": [],
   "source": [
    "wiki = pd.read_html('https://en.wikipedia.org/wiki/2020_coronavirus_pandemic_in_Indonesia')\n",
    "wiki = wiki[3]\n",
    "wiki = wiki[['Province','Confirmed','Recovered','Deaths','Active']]\n",
    "wiki = wiki.drop([36,34,35],axis=0)\n",
    "wiki.columns = ['Provinsi','Confirmed','Recovered','Deaths','Active']\n",
    "wiki = wiki.replace('Jakarta[b]', 'Jakarta')\n",
    "wiki"
   ]
  },
  {
   "cell_type": "markdown",
   "metadata": {},
   "source": [
    "## Request Data from URL to json to dataframe"
   ]
  },
  {
   "cell_type": "code",
   "execution_count": null,
   "metadata": {},
   "outputs": [],
   "source": [
    "urlprovinsi = 'https://raw.githubusercontent.com/LintangWisesa/Indonesia-Covid19-Maps/master/data/gps_indonesia.json'\n",
    "dataP = requests.get(urlprovinsi)\n",
    "dataP = dataP.json()\n",
    "dataP = pd.DataFrame(dataP)\n",
    "dataP"
   ]
  },
  {
   "cell_type": "markdown",
   "metadata": {},
   "source": [
    "## Merge Two dataframes"
   ]
  },
  {
   "cell_type": "code",
   "execution_count": null,
   "metadata": {},
   "outputs": [],
   "source": [
    "covid19 = pd.merge(wiki, dataP, on='Provinsi')\n",
    "covid19"
   ]
  },
  {
   "cell_type": "code",
   "execution_count": null,
   "metadata": {},
   "outputs": [],
   "source": [
    "# to display Indonesia Map\n",
    "peta = fo.Map(\n",
    "    location=[-1.0068126, 113.8159988],\n",
    "    zoom_start=6.04,\n",
    "    tiles = 'Stamen Terrain'\n",
    ")\n",
    "\n",
    "# to create Marker in every provinces by for loop\n",
    "for i in range(len(covid19)):\n",
    "    fo.Marker(\n",
    "        location = [covid19.iloc[i]['latitude'], covid19.iloc[i]['longitude']],\n",
    "        popup = ' Confirmed: ' + str(covid19.iloc[i]['Confirmed']) + ' Recovered: ' + str(covid19.iloc[i]['Recovered']) + ' Deaths: ' + str(covid19.iloc[i]['Deaths']) + '</b></p>',\n",
    "        tooltip = covid19.iloc[i]['Provinsi'],\n",
    "        icon = fo.Icon(color='red', prefix='fa', icon='plus-circle')\n",
    "    ).add_to(peta)\n",
    "\n",
    "peta.save('covid.html')\n",
    "peta"
   ]
  },
  {
   "cell_type": "code",
   "execution_count": null,
   "metadata": {},
   "outputs": [],
   "source": []
  }
 ],
 "metadata": {
  "kernelspec": {
   "display_name": "Python 3.8.1 64-bit",
   "language": "python",
   "name": "python38164bit2613f6059fad4cdfa4cbc2132cfca99d"
  },
  "language_info": {
   "codemirror_mode": {
    "name": "ipython",
    "version": 3
   },
   "file_extension": ".py",
   "mimetype": "text/x-python",
   "name": "python",
   "nbconvert_exporter": "python",
   "pygments_lexer": "ipython3",
   "version": "3.8.1"
  }
 },
 "nbformat": 4,
 "nbformat_minor": 4
}
